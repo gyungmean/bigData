{
  "nbformat": 4,
  "nbformat_minor": 0,
  "metadata": {
    "colab": {
      "provenance": [],
      "authorship_tag": "ABX9TyOqmxBMZTmp+pTB5XAa/3ZI",
      "include_colab_link": true
    },
    "kernelspec": {
      "name": "python3",
      "display_name": "Python 3"
    },
    "language_info": {
      "name": "python"
    }
  },
  "cells": [
    {
      "cell_type": "markdown",
      "metadata": {
        "id": "view-in-github",
        "colab_type": "text"
      },
      "source": [
        "<a href=\"https://colab.research.google.com/github/gyungmean/bigData/blob/main/Lab02.ipynb\" target=\"_parent\"><img src=\"https://colab.research.google.com/assets/colab-badge.svg\" alt=\"Open In Colab\"/></a>"
      ]
    },
    {
      "cell_type": "code",
      "execution_count": null,
      "metadata": {
        "colab": {
          "base_uri": "https://localhost:8080/"
        },
        "id": "yYlYr76gNwzt",
        "outputId": "b070df08-9125-4d9e-f856-9f1c4c959d87"
      },
      "outputs": [
        {
          "output_type": "stream",
          "name": "stdout",
          "text": [
            "학과 : 컴퓨터공학과\n",
            "이름 : 가나다\n",
            "연락처 : 000 0000 0000\n",
            "색상 : yellow\n"
          ]
        }
      ],
      "source": [
        "#LAB2_1 문자열 변수\n",
        "\n",
        "dept=\"컴퓨터공학과\"\n",
        "name=\"가나다\"\n",
        "phone=\"000-0000-0000\"\n",
        "color=\"yellow\"\n",
        "print(\"학과 :\", dept)\n",
        "print(\"이름 :\", name)\n",
        "print(\"연락처 :\", phone)\n",
        "print(\"색상 :\", color)"
      ]
    },
    {
      "cell_type": "code",
      "source": [
        "#LAB2_2 수 입력하기\n",
        "\n",
        "num1 = int(input(\"첫 번째 정수를 입력하시오: \"))\n",
        "num2 = int(input(\"두 번째 정수를 입력하시오: \"))\n",
        "print(num1, \"+\", num2, \"=\", num1+num2)\n",
        "print(num1, \"-\", num2, \"=\", num1-num2)\n",
        "print(num1, \"*\", num2, \"=\", num1*num2)\n",
        "print(num1, \"/\", num2, \"=\", num1/num2)"
      ],
      "metadata": {
        "colab": {
          "base_uri": "https://localhost:8080/"
        },
        "id": "yX8ordzjQ7qJ",
        "outputId": "c9c3d0f1-7f3c-46d8-e239-ddd4ad1504ea"
      },
      "execution_count": null,
      "outputs": [
        {
          "output_type": "stream",
          "name": "stdout",
          "text": [
            "첫 번째 정수를 입력하시오: 300\n",
            "두 번째 정수를 입력하시오: 400\n",
            "300 + 400 = 700\n",
            "300 - 400 = -100\n",
            "300 * 400 = 120000\n",
            "300 / 400 = 0.75\n"
          ]
        }
      ]
    },
    {
      "cell_type": "code",
      "source": [
        "#LAB2_3 리스트\n",
        "\n",
        "a=[None] * 4\n",
        "print(a)\n",
        "a[3] =9\n",
        "print(a)\n",
        "x =0\n",
        "a[x] = a[3] + 4\n",
        "print(a)\n",
        "a[x+1] = a[3] *3\n",
        "print(a)\n",
        "x +=1\n",
        "a[x+2] = a[x-1]\n",
        "print(a)\n",
        "a[2] = a[1] + 5\n",
        "print(a)\n",
        "a[3] = a[3] +1\n",
        "print(a)"
      ],
      "metadata": {
        "colab": {
          "base_uri": "https://localhost:8080/"
        },
        "id": "RM0r34_4hAk5",
        "outputId": "6554a0d0-e21f-47ea-c25f-5502ee780cc3"
      },
      "execution_count": null,
      "outputs": [
        {
          "output_type": "stream",
          "name": "stdout",
          "text": [
            "[None, None, None, None]\n",
            "[None, None, None, 9]\n",
            "[13, None, None, 9]\n",
            "[13, 27, None, 9]\n",
            "[13, 27, None, 13]\n",
            "[13, 27, 32, 13]\n",
            "[13, 27, 32, 14]\n"
          ]
        }
      ]
    },
    {
      "cell_type": "code",
      "source": [
        "#LAB2_4 리스트\n",
        "\n",
        "color = ['red', 'yellow']\n",
        "color.append('green')\n",
        "print(color) #1\n",
        "color.pop()\n",
        "print(color) #2\n",
        "color.insert(1, 'orange')\n",
        "print(color) #3\n",
        "color.index('orange')\n",
        "len(color) #4"
      ],
      "metadata": {
        "colab": {
          "base_uri": "https://localhost:8080/"
        },
        "id": "3WgVZ9B6iyoo",
        "outputId": "f4940943-330c-466c-ca36-d9766b1c0448"
      },
      "execution_count": null,
      "outputs": [
        {
          "output_type": "stream",
          "name": "stdout",
          "text": [
            "['red', 'yellow', 'green']\n",
            "['red', 'yellow']\n",
            "['red', 'orange', 'yellow']\n"
          ]
        },
        {
          "output_type": "execute_result",
          "data": {
            "text/plain": [
              "3"
            ]
          },
          "metadata": {},
          "execution_count": 7
        }
      ]
    },
    {
      "cell_type": "code",
      "source": [
        "#LAB2_6 리스트\n",
        "\n",
        "num = [50, 30, 70, 40]\n",
        "num.remove(30)\n",
        "print(num) #①\n",
        "num.sort()\n",
        "print(num) #②\n",
        "num.insert(1, 80)\n",
        "print(num) #③\n",
        "num.pop()\n",
        "print(num) #④\n",
        "num.append(60)\n",
        "print(num) #⑤\n",
        "del num[1]\n",
        "print(num) #⑥"
      ],
      "metadata": {
        "colab": {
          "base_uri": "https://localhost:8080/"
        },
        "id": "jzPgacZpjg52",
        "outputId": "bf4910f4-5fb4-4e93-d395-731b43e3cc2e"
      },
      "execution_count": null,
      "outputs": [
        {
          "output_type": "stream",
          "name": "stdout",
          "text": [
            "[50, 70, 40]\n",
            "[40, 50, 70]\n",
            "[40, 80, 50, 70]\n",
            "[40, 80, 50]\n",
            "[40, 80, 50, 60]\n",
            "[40, 50, 60]\n"
          ]
        }
      ]
    }
  ]
}