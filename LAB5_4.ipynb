{
  "nbformat": 4,
  "nbformat_minor": 0,
  "metadata": {
    "colab": {
      "provenance": [],
      "authorship_tag": "ABX9TyOfP7lxTTkovm7ePfMlt5fn",
      "include_colab_link": true
    },
    "kernelspec": {
      "name": "python3",
      "display_name": "Python 3"
    },
    "language_info": {
      "name": "python"
    }
  },
  "cells": [
    {
      "cell_type": "markdown",
      "metadata": {
        "id": "view-in-github",
        "colab_type": "text"
      },
      "source": [
        "<a href=\"https://colab.research.google.com/github/gyungmean/bigData/blob/main/LAB5_4.ipynb\" target=\"_parent\"><img src=\"https://colab.research.google.com/assets/colab-badge.svg\" alt=\"Open In Colab\"/></a>"
      ]
    },
    {
      "cell_type": "code",
      "execution_count": null,
      "metadata": {
        "colab": {
          "base_uri": "https://localhost:8080/"
        },
        "id": "7t710vwzin1B",
        "outputId": "bba9a8df-9937-49bd-9b04-d85130526bc7"
      },
      "outputs": [
        {
          "output_type": "stream",
          "name": "stdout",
          "text": [
            "숫자를 맞혀 보세요. (1~100)\n",
            "50\n",
            "숫자가 너무 큽니다.\n",
            "30\n",
            "숫자가 너무 작습니다.\n",
            "40\n",
            "숫자가 너무 작습니다.\n",
            "45\n",
            "숫자가 너무 큽니다.\n",
            "43\n",
            "숫자가 너무 작습니다.\n",
            "44\n",
            "정답입니다 입력한 숫자는 44입니다.\n"
          ]
        }
      ],
      "source": [
        "#LAB5_4 숫자 찾기 게임\n",
        "\n",
        "#import random\n",
        "\n",
        "#random_number = random.randint(1, 100)\n",
        "random_number = 44\n",
        "\n",
        "print(\"숫자를 맞혀 보세요. (1~100)\")\n",
        "while True:\n",
        "    guess = int(input())\n",
        "\n",
        "    if guess < random_number:\n",
        "        print(\"숫자가 너무 작습니다.\")\n",
        "    elif guess > random_number:\n",
        "        print(\"숫자가 너무 큽니다.\")\n",
        "    else:\n",
        "        print(f\"정답입니다 입력한 숫자는 {guess}입니다.\")\n",
        "        break"
      ]
    }
  ]
}