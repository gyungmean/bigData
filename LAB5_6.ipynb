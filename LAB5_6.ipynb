{
  "nbformat": 4,
  "nbformat_minor": 0,
  "metadata": {
    "colab": {
      "provenance": [],
      "authorship_tag": "ABX9TyOcFKMwUkiR6SQQZaUyW0jP",
      "include_colab_link": true
    },
    "kernelspec": {
      "name": "python3",
      "display_name": "Python 3"
    },
    "language_info": {
      "name": "python"
    }
  },
  "cells": [
    {
      "cell_type": "markdown",
      "metadata": {
        "id": "view-in-github",
        "colab_type": "text"
      },
      "source": [
        "<a href=\"https://colab.research.google.com/github/gyungmean/bigData/blob/main/LAB5_6.ipynb\" target=\"_parent\"><img src=\"https://colab.research.google.com/assets/colab-badge.svg\" alt=\"Open In Colab\"/></a>"
      ]
    },
    {
      "cell_type": "code",
      "execution_count": null,
      "metadata": {
        "colab": {
          "base_uri": "https://localhost:8080/"
        },
        "id": "28RSjtBZlH_L",
        "outputId": "4e96fe96-90a1-4fcb-e493-2fca28dd466a"
      },
      "outputs": [
        {
          "output_type": "stream",
          "name": "stdout",
          "text": [
            "[47.0, 74.0, 51.0, 60.0, 90.0]\n"
          ]
        }
      ],
      "source": [
        "#LAB5_6 평균구하기\n",
        "\n",
        "scores = [[49, 43, 49],\n",
        "          [80, 60, 82],\n",
        "          [20, 85, 48],\n",
        "          [100, 30, 50],\n",
        "          [80, 90, 100]]\n",
        "averages = []\n",
        "for student_scores in scores:\n",
        "    total = 0\n",
        "    for score in student_scores:\n",
        "        total += score\n",
        "    average = total / len(student_scores)\n",
        "    averages.append(average)\n",
        "\n",
        "print(averages)"
      ]
    }
  ]
}