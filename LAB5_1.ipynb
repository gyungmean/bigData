{
  "nbformat": 4,
  "nbformat_minor": 0,
  "metadata": {
    "colab": {
      "provenance": [],
      "authorship_tag": "ABX9TyPLErEpi9vCk5SD5tgoA5Qz",
      "include_colab_link": true
    },
    "kernelspec": {
      "name": "python3",
      "display_name": "Python 3"
    },
    "language_info": {
      "name": "python"
    }
  },
  "cells": [
    {
      "cell_type": "markdown",
      "metadata": {
        "id": "view-in-github",
        "colab_type": "text"
      },
      "source": [
        "<a href=\"https://colab.research.google.com/github/gyungmean/bigData/blob/main/LAB5_1.ipynb\" target=\"_parent\"><img src=\"https://colab.research.google.com/assets/colab-badge.svg\" alt=\"Open In Colab\"/></a>"
      ]
    },
    {
      "cell_type": "code",
      "execution_count": null,
      "metadata": {
        "colab": {
          "base_uri": "https://localhost:8080/"
        },
        "id": "KGaA_Z3keiU9",
        "outputId": "54b9cf26-7331-4f20-e37e-24fa1627a421"
      },
      "outputs": [
        {
          "output_type": "stream",
          "name": "stdout",
          "text": [
            "구구단 몇 단을 계산할까?\n",
            "6\n",
            "구구단 6단을 계산한다.\n",
            "6 x 1 = 6\n",
            "6 x 2 = 12\n",
            "6 x 3 = 18\n",
            "6 x 4 = 24\n",
            "6 x 5 = 30\n",
            "6 x 6 = 36\n",
            "6 x 7 = 42\n",
            "6 x 8 = 48\n",
            "6 x 9 = 54\n"
          ]
        }
      ],
      "source": [
        "#LAB5_1 구구단 계산기\n",
        "\n",
        "print(\"구구단 몇 단을 계산할까?\")\n",
        "num = int(input())\n",
        "print(f\"구구단 {num}단을 계산한다.\")\n",
        "for i in range(1, 10):\n",
        "    result = num * i\n",
        "    print(f\"{num} x {i} = {result}\")"
      ]
    }
  ]
}