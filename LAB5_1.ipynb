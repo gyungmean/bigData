{
  "nbformat": 4,
  "nbformat_minor": 0,
  "metadata": {
    "colab": {
      "provenance": [],
      "authorship_tag": "ABX9TyMiVsajaZYx5gjUW9QJ53wk",
      "include_colab_link": true
    },
    "kernelspec": {
      "name": "python3",
      "display_name": "Python 3"
    },
    "language_info": {
      "name": "python"
    }
  },
  "cells": [
    {
      "cell_type": "markdown",
      "metadata": {
        "id": "view-in-github",
        "colab_type": "text"
      },
      "source": [
        "<a href=\"https://colab.research.google.com/github/gyungmean/bigData/blob/main/LAB5_1.ipynb\" target=\"_parent\"><img src=\"https://colab.research.google.com/assets/colab-badge.svg\" alt=\"Open In Colab\"/></a>"
      ]
    },
    {
      "cell_type": "code",
      "execution_count": 1,
      "metadata": {
        "colab": {
          "base_uri": "https://localhost:8080/"
        },
        "id": "0RKKZxfn9dD0",
        "outputId": "ca4b118b-3231-4fbb-f81e-66dbb05a2f9a"
      },
      "outputs": [
        {
          "output_type": "stream",
          "name": "stdout",
          "text": [
            "1 2 짝 4 5 짝 7 8 짝 10 11 짝 13 14 짝 16 17 짝 19 20 짝 22 23 짝 25 26 짝 28 29 짝 31 32 짝 34 35 짝 37 38 짝 40 41 짝 43 44 짝 46 47 짝 49 50 짝 52 53 짝 55 56 짝 58 59 짝 61 62 짝 64 65 짝 67 68 짝 70 71 짝 73 74 짝 76 77 짝 79 80 짝 82 83 짝 85 86 짝 88 89 짝 91 92 짝 94 95 짝 97 98 짝 "
          ]
        }
      ],
      "source": [
        "#LAB5_1 369게임\n",
        "\n",
        "def game369(num):\n",
        "  if num % 3 == 0 :\n",
        "    return \"짝\"\n",
        "  else :\n",
        "    return num\n",
        "\n",
        "\n",
        "for i in range(1, 100):\n",
        "  print(game369(i), end=\" \")"
      ]
    }
  ]
}