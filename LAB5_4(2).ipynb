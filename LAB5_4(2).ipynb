{
  "nbformat": 4,
  "nbformat_minor": 0,
  "metadata": {
    "colab": {
      "provenance": [],
      "authorship_tag": "ABX9TyNg70iUVGKUcu0b5g3eA5eY",
      "include_colab_link": true
    },
    "kernelspec": {
      "name": "python3",
      "display_name": "Python 3"
    },
    "language_info": {
      "name": "python"
    }
  },
  "cells": [
    {
      "cell_type": "markdown",
      "metadata": {
        "id": "view-in-github",
        "colab_type": "text"
      },
      "source": [
        "<a href=\"https://colab.research.google.com/github/gyungmean/bigData/blob/main/LAB5_4(2).ipynb\" target=\"_parent\"><img src=\"https://colab.research.google.com/assets/colab-badge.svg\" alt=\"Open In Colab\"/></a>"
      ]
    },
    {
      "cell_type": "code",
      "execution_count": 2,
      "metadata": {
        "colab": {
          "base_uri": "https://localhost:8080/"
        },
        "id": "TYTkXvzhBT8o",
        "outputId": "6cb6f2b5-c99d-4548-9266-25394dd7b15b"
      },
      "outputs": [
        {
          "output_type": "stream",
          "name": "stdout",
          "text": [
            "매개변수로 전달된 값: 1 2 3 4 5 \n",
            "평균:  3.0\n",
            "----------------------------------------\n",
            "매개변수로 전달된 값: 30 10 20 \n",
            "평균:  20.0\n"
          ]
        }
      ],
      "source": [
        "#LAB5_4 평균\n",
        "\n",
        "def average(*args):\n",
        "  nums = []\n",
        "  print(\"매개변수로 전달된 값: \", end=\"\")\n",
        "  for n in args:\n",
        "    print(n, end=\" \")\n",
        "    nums.append(n)\n",
        "  print()\n",
        "  return sum(nums)/len(nums)\n",
        "\n",
        "print(\"평균: \", average(1, 2, 3, 4, 5))\n",
        "print(\"-\" * 40)\n",
        "print(\"평균: \", average(30, 10, 20))\n"
      ]
    }
  ]
}