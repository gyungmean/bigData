{
  "nbformat": 4,
  "nbformat_minor": 0,
  "metadata": {
    "colab": {
      "provenance": [],
      "authorship_tag": "ABX9TyO7L9ufZ6/zO6Tj1WUGCaHv",
      "include_colab_link": true
    },
    "kernelspec": {
      "name": "python3",
      "display_name": "Python 3"
    },
    "language_info": {
      "name": "python"
    }
  },
  "cells": [
    {
      "cell_type": "markdown",
      "metadata": {
        "id": "view-in-github",
        "colab_type": "text"
      },
      "source": [
        "<a href=\"https://colab.research.google.com/github/gyungmean/bigData/blob/main/LAB5_2.ipynb\" target=\"_parent\"><img src=\"https://colab.research.google.com/assets/colab-badge.svg\" alt=\"Open In Colab\"/></a>"
      ]
    },
    {
      "cell_type": "code",
      "execution_count": null,
      "metadata": {
        "colab": {
          "base_uri": "https://localhost:8080/"
        },
        "id": "ZMw3AZYMgIBm",
        "outputId": "6ab1b903-eb77-4aa0-e424-f73696235383"
      },
      "outputs": [
        {
          "output_type": "stream",
          "name": "stdout",
          "text": [
            "uoy evol I\n"
          ]
        }
      ],
      "source": [
        "#LAB5_2 역순 출력하기\n",
        "sentence = \"I love you\"\n",
        "reversed_sentence = \"\"\n",
        "\n",
        "for i in range(len(sentence)-1, -1, -1):\n",
        "    reversed_sentence += sentence[i]\n",
        "\n",
        "print(reversed_sentence)"
      ]
    }
  ]
}