{
  "nbformat": 4,
  "nbformat_minor": 0,
  "metadata": {
    "colab": {
      "provenance": [],
      "authorship_tag": "ABX9TyOZnsyTbs/CbThyHmhIVMbL",
      "include_colab_link": true
    },
    "kernelspec": {
      "name": "python3",
      "display_name": "Python 3"
    },
    "language_info": {
      "name": "python"
    }
  },
  "cells": [
    {
      "cell_type": "markdown",
      "metadata": {
        "id": "view-in-github",
        "colab_type": "text"
      },
      "source": [
        "<a href=\"https://colab.research.google.com/github/gyungmean/bigData/blob/main/LAB5_3.ipynb\" target=\"_parent\"><img src=\"https://colab.research.google.com/assets/colab-badge.svg\" alt=\"Open In Colab\"/></a>"
      ]
    },
    {
      "cell_type": "code",
      "execution_count": null,
      "metadata": {
        "colab": {
          "base_uri": "https://localhost:8080/"
        },
        "id": "siM0ePZUhkEe",
        "outputId": "43e2ebe3-9b9a-4d7a-9673-0957829d6c5a"
      },
      "outputs": [
        {
          "output_type": "stream",
          "name": "stdout",
          "text": [
            "십진수를 입력하세요: 25\n",
            "11001\n"
          ]
        }
      ],
      "source": [
        "#LAB5_3 십진수를 이진수로 변환\n",
        "\n",
        "decimal = int(input(\"십진수를 입력하세요: \"))\n",
        "binary = \"\"\n",
        "\n",
        "while decimal > 0:\n",
        "    remainder = decimal % 2\n",
        "    binary = str(remainder) + binary\n",
        "    decimal = decimal // 2\n",
        "\n",
        "print(binary)"
      ]
    }
  ]
}