{
  "nbformat": 4,
  "nbformat_minor": 0,
  "metadata": {
    "colab": {
      "provenance": [],
      "authorship_tag": "ABX9TyMZlZTe4ZKxh76YPHN4dRPc",
      "include_colab_link": true
    },
    "kernelspec": {
      "name": "python3",
      "display_name": "Python 3"
    },
    "language_info": {
      "name": "python"
    }
  },
  "cells": [
    {
      "cell_type": "markdown",
      "metadata": {
        "id": "view-in-github",
        "colab_type": "text"
      },
      "source": [
        "<a href=\"https://colab.research.google.com/github/gyungmean/bigData/blob/main/LAB5_2(2).ipynb\" target=\"_parent\"><img src=\"https://colab.research.google.com/assets/colab-badge.svg\" alt=\"Open In Colab\"/></a>"
      ]
    },
    {
      "cell_type": "code",
      "execution_count": 4,
      "metadata": {
        "colab": {
          "base_uri": "https://localhost:8080/"
        },
        "id": "nnaV49i5-Klh",
        "outputId": "a0140d18-e9e4-4d3c-e1c7-7beccf3cd958"
      },
      "outputs": [
        {
          "output_type": "stream",
          "name": "stdout",
          "text": [
            "키를 m단위로 입력: 1.6\n",
            "몸무게를 kg단위로 입력: 50\n",
            "당신의 체지방지수는 19.53입니다. \n",
            "당신은 정상입니다.\n"
          ]
        }
      ],
      "source": [
        "#LAB5_2 BMI\n",
        "\n",
        "def BMI(height, weight) :\n",
        "  result = weight / (height*height)\n",
        "  return result\n",
        "\n",
        "def result_print(result) :\n",
        "  print(f\"당신의 체지방지수는 {result:.2f}입니다. \")\n",
        "  if result < 18.5 :\n",
        "    print(\"당신은 저체중입니다.\")\n",
        "  elif result < 23 :\n",
        "    print(\"당신은 정상입니다.\")\n",
        "  elif result < 25 :\n",
        "    print(\"당신은 과체중입니다.\")\n",
        "  elif result < 30 :\n",
        "    print(\"당신은 경도비만입니다.\")\n",
        "  else :\n",
        "    print(\"당신은 고도비만입니다.\")\n",
        "\n",
        "h = float(input(\"키를 m단위로 입력: \"))\n",
        "w = float(input(\"몸무게를 kg단위로 입력: \"))\n",
        "\n",
        "result = BMI(h, w)\n",
        "result_print(result)"
      ]
    }
  ]
}