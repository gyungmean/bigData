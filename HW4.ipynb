{
  "nbformat": 4,
  "nbformat_minor": 0,
  "metadata": {
    "colab": {
      "provenance": [],
      "authorship_tag": "ABX9TyOSQMwTj7WHXux0RNPx4ae9",
      "include_colab_link": true
    },
    "kernelspec": {
      "name": "python3",
      "display_name": "Python 3"
    },
    "language_info": {
      "name": "python"
    }
  },
  "cells": [
    {
      "cell_type": "markdown",
      "metadata": {
        "id": "view-in-github",
        "colab_type": "text"
      },
      "source": [
        "<a href=\"https://colab.research.google.com/github/gyungmean/bigData/blob/main/HW4.ipynb\" target=\"_parent\"><img src=\"https://colab.research.google.com/assets/colab-badge.svg\" alt=\"Open In Colab\"/></a>"
      ]
    },
    {
      "cell_type": "code",
      "execution_count": null,
      "metadata": {
        "colab": {
          "base_uri": "https://localhost:8080/"
        },
        "id": "AI1OJiRlltET",
        "outputId": "028a9895-b74b-42ee-ae4c-c652152644c3"
      },
      "outputs": [
        {
          "output_type": "stream",
          "name": "stdout",
          "text": [
            "나이 입력:25\n",
            "입장료는 10000원 입니다.\n"
          ]
        }
      ],
      "source": [
        "#HW4_2 입장료 계산\n",
        "\n",
        "age = int(input(\"나이 입력:\"))\n",
        "fee = 10000\n",
        "if age >= 65 :\n",
        "  fee = int(10000 * 0.8)\n",
        "print(f\"입장료는 {fee}원 입니다.\")"
      ]
    },
    {
      "cell_type": "code",
      "source": [
        "#HW4_3 가위바위보 게임\n",
        "\n",
        "player = ['신짱구', '최자두']\n",
        "\n",
        "# 플레이어의 선택 입력받기\n",
        "choice_a = input(player[0] + \" 입력: \")\n",
        "choice_b = input(player[1] + \" 입력: \")\n",
        "\n",
        "# 유효한 선택인지 확인하고 결과 출력\n",
        "if choice_a in ['가위', '바위', '보'] and choice_b in ['가위', '바위', '보']:\n",
        "    if choice_a == choice_b:\n",
        "        print(\"모두 승\")\n",
        "    elif (choice_a == '가위' and choice_b == '보') or (choice_a == '바위' and choice_b == '가위') or (choice_a == '보' and choice_b == '바위'):\n",
        "        print(player[0] + \" 승\")\n",
        "    else:\n",
        "        print(player[1] + \" 승\")"
      ],
      "metadata": {
        "colab": {
          "base_uri": "https://localhost:8080/"
        },
        "id": "P1CZxHh0memy",
        "outputId": "85bef6a9-3799-4938-ee24-5db75fbae40f"
      },
      "execution_count": null,
      "outputs": [
        {
          "output_type": "stream",
          "name": "stdout",
          "text": [
            "신짱구 입력: 보\n",
            "최자두 입력: 바위\n",
            "신짱구 승\n"
          ]
        }
      ]
    },
    {
      "cell_type": "code",
      "source": [
        "#HW4_4 로그인\n",
        "\n",
        "id = input(\"아이디 입력:\")\n",
        "pw = input(\"비밀번호 입력:\")\n",
        "if id == \"admin\" :\n",
        "  if pw == \"pw1234\" :\n",
        "    print(\"로그인 성공\")\n",
        "  else :\n",
        "    print(\"로그인 실패\")\n",
        "else :\n",
        "  print(\"로그인 실패\")"
      ],
      "metadata": {
        "colab": {
          "base_uri": "https://localhost:8080/"
        },
        "id": "_kUyJG0ooUmx",
        "outputId": "af50ed33-594b-4393-99e0-c1e6e1038c4d"
      },
      "execution_count": null,
      "outputs": [
        {
          "output_type": "stream",
          "name": "stdout",
          "text": [
            "아이디 입력:ad\n",
            "비밀번호 입력:pw1234\n",
            "로그인 실패\n"
          ]
        }
      ]
    },
    {
      "cell_type": "code",
      "source": [
        "#HW4_5\n",
        "\n",
        "num1 = int(input(\"첫 번째 수 입력:\"))\n",
        "num2 = int(input(\"두 번째 수 입력:\"))\n",
        "op = input(\"원하는 연산 기호 하나 입력:(+ - * /) : \")\n",
        "result = 0\n",
        "if op == '+':\n",
        "    result = num1 + num2\n",
        "elif op == '-':\n",
        "    result = num1 - num2\n",
        "elif op == '*':\n",
        "    result = num1 * num2\n",
        "elif op == '/':\n",
        "    result = num1 / num2\n",
        "else:\n",
        "    print(\"유효한 연산 기호가 아닙니다.\")\n",
        "\n",
        "if result != 0:\n",
        "    print(num1, op, num2, \"=\", result)"
      ],
      "metadata": {
        "colab": {
          "base_uri": "https://localhost:8080/"
        },
        "id": "1UjfCZkipCN9",
        "outputId": "1c0145ee-7ca4-4a71-89b8-fbb8ec0665a8"
      },
      "execution_count": null,
      "outputs": [
        {
          "output_type": "stream",
          "name": "stdout",
          "text": [
            "첫 번째 수 입력:587\n",
            "두 번째 수 입력:123\n",
            "원하는 연산 기호 하나 입력:(+ - * /) : -\n",
            "587 - 123 = 464\n"
          ]
        }
      ]
    },
    {
      "cell_type": "code",
      "source": [
        "#HW4_6 행운권 추첨\n",
        "\n",
        "import random\n",
        "\n",
        "#winning_number = random.randint(10, 99)\n",
        "winning_number = 14\n",
        "my_number = int(input(\"내 번호 입력(10 ~ 99): \"))\n",
        "print(\"당첨번호는\", winning_number, \"입니다.\")\n",
        "\n",
        "winning_digits = [int(digit) for digit in str(winning_number)]\n",
        "my_digits = [int(digit) for digit in str(my_number)]\n",
        "\n",
        "if my_number == winning_number:\n",
        "    print(\"피자10판 당첨\")\n",
        "elif any(digit in winning_digits for digit in my_digits):\n",
        "    print(\"치킨 5마리 당첨\")\n",
        "else:\n",
        "    print(\"꽝 입니다.\")"
      ],
      "metadata": {
        "colab": {
          "base_uri": "https://localhost:8080/"
        },
        "id": "9ck9t5wCqFXr",
        "outputId": "5e272cec-d895-40c2-9931-3520cfe2f92e"
      },
      "execution_count": null,
      "outputs": [
        {
          "output_type": "stream",
          "name": "stdout",
          "text": [
            "내 번호 입력(10 ~ 99): 14\n",
            "당첨번호는 14 입니다.\n",
            "피자10판 당첨\n"
          ]
        }
      ]
    }
  ]
}