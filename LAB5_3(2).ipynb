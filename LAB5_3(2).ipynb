{
  "nbformat": 4,
  "nbformat_minor": 0,
  "metadata": {
    "colab": {
      "provenance": [],
      "authorship_tag": "ABX9TyNrod8GLJNpp6bqW8okPPU3",
      "include_colab_link": true
    },
    "kernelspec": {
      "name": "python3",
      "display_name": "Python 3"
    },
    "language_info": {
      "name": "python"
    }
  },
  "cells": [
    {
      "cell_type": "markdown",
      "metadata": {
        "id": "view-in-github",
        "colab_type": "text"
      },
      "source": [
        "<a href=\"https://colab.research.google.com/github/gyungmean/bigData/blob/main/LAB5_3(2).ipynb\" target=\"_parent\"><img src=\"https://colab.research.google.com/assets/colab-badge.svg\" alt=\"Open In Colab\"/></a>"
      ]
    },
    {
      "cell_type": "code",
      "execution_count": 3,
      "metadata": {
        "colab": {
          "base_uri": "https://localhost:8080/"
        },
        "id": "IF4f3ucZAcao",
        "outputId": "9670d16f-bfd8-4d3c-e4ff-ae2c00e5b265"
      },
      "outputs": [
        {
          "output_type": "stream",
          "name": "stdout",
          "text": [
            "환전 금액(원)을 입력하세요: 10000\n",
            "국가를 입력하세요: 캐나다\n",
            "해당 국가 정보가 없습니다\n"
          ]
        }
      ],
      "source": [
        "#LAB5_3 환전 계산기\n",
        "\n",
        "def exchange(m, c) :\n",
        "  if c in country_list :\n",
        "    m_code = country_list.index(c)\n",
        "  else :\n",
        "    print(\"해당 국가 정보가 없습니다\")\n",
        "    return\n",
        "  result = round(m / rate[m_code], 2)\n",
        "  print( m,\"원은\", result, unit[m_code],\"입니다\")\n",
        "\n",
        "country_list = ['미국', '중국', '유럽', '일본', '영국']\n",
        "unit= ['달러', '위안', '유로', '엔', '파운드']\n",
        "rate = [1270.50, 189.44, 1345.21, 975.36, 1571.67]\n",
        "\n",
        "money1 = int(input(\"환전 금액(원)을 입력하세요: \"))\n",
        "country = input(\"국가를 입력하세요: \" )\n",
        "exchange(money1, country)"
      ]
    }
  ]
}