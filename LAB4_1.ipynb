{
  "nbformat": 4,
  "nbformat_minor": 0,
  "metadata": {
    "colab": {
      "provenance": [],
      "authorship_tag": "ABX9TyPM+OrLzZqe9SmZ56sf5G4N",
      "include_colab_link": true
    },
    "kernelspec": {
      "name": "python3",
      "display_name": "Python 3"
    },
    "language_info": {
      "name": "python"
    }
  },
  "cells": [
    {
      "cell_type": "markdown",
      "metadata": {
        "id": "view-in-github",
        "colab_type": "text"
      },
      "source": [
        "<a href=\"https://colab.research.google.com/github/gyungmean/bigData/blob/main/LAB4_1.ipynb\" target=\"_parent\"><img src=\"https://colab.research.google.com/assets/colab-badge.svg\" alt=\"Open In Colab\"/></a>"
      ]
    },
    {
      "cell_type": "code",
      "execution_count": null,
      "metadata": {
        "colab": {
          "base_uri": "https://localhost:8080/"
        },
        "id": "6DoAe8LvgaUI",
        "outputId": "ca156f3a-faa7-49ca-f861-d0b2196d52c2"
      },
      "outputs": [
        {
          "output_type": "stream",
          "name": "stdout",
          "text": [
            "당신이 태어난 연도를 입력하세요.1999\n",
            "대학생\n"
          ]
        }
      ],
      "source": [
        "year = int(input(\"당신이 태어난 연도를 입력하세요.\"))\n",
        "age = 2023 - year + 1\n",
        "if 20 <= age <= 26 :\n",
        "  print(\"대학생\")\n",
        "elif 17 <= age < 20 :\n",
        "  print(\"고등학생\")\n",
        "elif 14 <= age < 17 :\n",
        "  print(\"중학생\")\n",
        "elif 8 <= age < 14 :\n",
        "  print(\"초등학생\")\n",
        "else :\n",
        "  print(\"학생이 아닙니다.\")"
      ]
    }
  ]
}