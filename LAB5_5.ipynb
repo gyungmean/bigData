{
  "nbformat": 4,
  "nbformat_minor": 0,
  "metadata": {
    "colab": {
      "provenance": [],
      "authorship_tag": "ABX9TyOiXXX5fIQWEmWraU+ZeJMR",
      "include_colab_link": true
    },
    "kernelspec": {
      "name": "python3",
      "display_name": "Python 3"
    },
    "language_info": {
      "name": "python"
    }
  },
  "cells": [
    {
      "cell_type": "markdown",
      "metadata": {
        "id": "view-in-github",
        "colab_type": "text"
      },
      "source": [
        "<a href=\"https://colab.research.google.com/github/gyungmean/bigData/blob/main/LAB5_5.ipynb\" target=\"_parent\"><img src=\"https://colab.research.google.com/assets/colab-badge.svg\" alt=\"Open In Colab\"/></a>"
      ]
    },
    {
      "cell_type": "code",
      "execution_count": null,
      "metadata": {
        "colab": {
          "base_uri": "https://localhost:8080/"
        },
        "id": "62J0bxtgkBP-",
        "outputId": "e3896d52-04c7-4f44-e504-c33d9f5bdf45"
      },
      "outputs": [
        {
          "output_type": "stream",
          "name": "stdout",
          "text": [
            "구구단 몇 단을 계산할까요(1~9)?\n",
            "2\n",
            "구구단 2단을 계산합니다.\n",
            "2 x 1 = 2\n",
            "2 x 2 = 4\n",
            "2 x 3 = 6\n",
            "2 x 4 = 8\n",
            "2 x 5 = 10\n",
            "2 x 6 = 12\n",
            "2 x 7 = 14\n",
            "2 x 8 = 16\n",
            "2 x 9 = 18\n",
            "구구단 몇 단을 계산할까요(1~9)?\n",
            "9\n",
            "구구단 9단을 계산합니다.\n",
            "9 x 1 = 9\n",
            "9 x 2 = 18\n",
            "9 x 3 = 27\n",
            "9 x 4 = 36\n",
            "9 x 5 = 45\n",
            "9 x 6 = 54\n",
            "9 x 7 = 63\n",
            "9 x 8 = 72\n",
            "9 x 9 = 81\n",
            "구구단 몇 단을 계산할까요(1~9)?\n",
            "0\n",
            "구구단 게임을 종료합니다.\n"
          ]
        }
      ],
      "source": [
        "#LAB5_5 연속적인 구구단 계산기\n",
        "\n",
        "while True:\n",
        "  print(\"구구단 몇 단을 계산할까요(1~9)?\")\n",
        "  num = int(input())\n",
        "  if num == 0:\n",
        "    print(\"구구단 게임을 종료합니다.\")\n",
        "    break\n",
        "  print(f\"구구단 {num}단을 계산합니다.\")\n",
        "  for i in range(1, 10):\n",
        "    result = num * i\n",
        "    print(f\"{num} x {i} = {result}\")"
      ]
    }
  ]
}